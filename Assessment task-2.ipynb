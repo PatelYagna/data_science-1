{
 "cells": [
  {
   "cell_type": "code",
   "execution_count": 11,
   "id": "8a8aff65",
   "metadata": {},
   "outputs": [
    {
     "name": "stdout",
     "output_type": "stream",
     "text": [
      "2.23606797749979\n"
     ]
    }
   ],
   "source": [
    "# A function that computes the euclidean distance .\n",
    "def euclideandistance (x,y) :\n",
    "    x1, y1 = x\n",
    "    x2, y2 = y\n",
    "    edistance = 0\n",
    "    edistance = ((x2 - x1)**2 + (y2 - y1)**2)**(1/2)\n",
    "    return edistance\n",
    "a = (1, 2)\n",
    "b = (2, 4)\n",
    "print(euclideandistance(a,b))"
   ]
  },
  {
   "cell_type": "code",
   "execution_count": 10,
   "id": "40a4298c",
   "metadata": {},
   "outputs": [
    {
     "name": "stdout",
     "output_type": "stream",
     "text": [
      "78.5398\n"
     ]
    }
   ],
   "source": [
    "def circle_area(r):\n",
    "    area = 0.0\n",
    "    area = 3.141592*(r**2)\n",
    "    return area\n",
    "radius = 5.0\n",
    "print(circle_area(radius))"
   ]
  },
  {
   "cell_type": "code",
   "execution_count": 12,
   "id": "7e8b70ed",
   "metadata": {},
   "outputs": [
    {
     "name": "stdout",
     "output_type": "stream",
     "text": [
      "{'one': 1, 'two': 4, 'three': 9, 'four': 16, 'five': 25}\n"
     ]
    }
   ],
   "source": [
    "def square_of_dict_values(myDict) :\n",
    "    myDict_square = {}\n",
    "    for key, value in myDict.items():\n",
    "        myDict_square[key] = value**2\n",
    "    return myDict_square\n",
    "myDict = {'one': 1, 'two': 2, 'three': 3, 'four': 4, 'five': 5}\n",
    "print(square_of_dict_values(myDict))"
   ]
  },
  {
   "cell_type": "code",
   "execution_count": null,
   "id": "a635e989",
   "metadata": {},
   "outputs": [],
   "source": []
  }
 ],
 "metadata": {
  "kernelspec": {
   "display_name": "Python 3 (ipykernel)",
   "language": "python",
   "name": "python3"
  },
  "language_info": {
   "codemirror_mode": {
    "name": "ipython",
    "version": 3
   },
   "file_extension": ".py",
   "mimetype": "text/x-python",
   "name": "python",
   "nbconvert_exporter": "python",
   "pygments_lexer": "ipython3",
   "version": "3.11.5"
  }
 },
 "nbformat": 4,
 "nbformat_minor": 5
}
