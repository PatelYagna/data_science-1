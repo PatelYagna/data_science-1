{
 "cells": [
  {
   "cell_type": "code",
   "execution_count": 14,
   "id": "a146dc38",
   "metadata": {},
   "outputs": [
    {
     "name": "stdout",
     "output_type": "stream",
     "text": [
      "10\n"
     ]
    }
   ],
   "source": [
    "variable1 = 'John Smith'\n",
    "print(type(variable1))\n",
    "print(len(variable1))"
   ]
  },
  {
   "cell_type": "code",
   "execution_count": 17,
   "id": "f2bec25c",
   "metadata": {},
   "outputs": [
    {
     "name": "stdout",
     "output_type": "stream",
     "text": [
      "<class 'list'> 3\n"
     ]
    }
   ],
   "source": [
    "variable2 = ['Python', 'Jupyter Notebook', 'Data Analysis']\n",
    "print(type(variable2), len(variable2))"
   ]
  },
  {
   "cell_type": "code",
   "execution_count": 13,
   "id": "0ae626e1",
   "metadata": {},
   "outputs": [
    {
     "name": "stdout",
     "output_type": "stream",
     "text": [
      "Data type: <class 'tuple'>\n",
      "Length: 4\n"
     ]
    }
   ],
   "source": [
    "variable3 = (4, 9, 16, 25)\n",
    "print(type(variable3), len(variable3))"
   ]
  },
  {
   "cell_type": "code",
   "execution_count": 22,
   "id": "6a23c356",
   "metadata": {},
   "outputs": [
    {
     "name": "stdout",
     "output_type": "stream",
     "text": [
      "<class 'list'> 5\n"
     ]
    }
   ],
   "source": [
    "variable4 = [2.0, 3.0, 5.0, 7.0, 11.0]\n",
    "variable4 = [2.0, 3.0, 5.0, 7.0, 11.0]\n",
    "print(type(variable4), len(variable4))"
   ]
  },
  {
   "cell_type": "code",
   "execution_count": 19,
   "id": "5fa9ce68",
   "metadata": {},
   "outputs": [
    {
     "name": "stdout",
     "output_type": "stream",
     "text": [
      "<class 'dict'> 3\n"
     ]
    }
   ],
   "source": [
    "variable5 = {'key1': 65537, 'key2': 1729, 'key3': 1806}\n",
    "print(type(variable5), len(variable5))"
   ]
  },
  {
   "cell_type": "code",
   "execution_count": 21,
   "id": "f7a24ee2",
   "metadata": {},
   "outputs": [
    {
     "name": "stdout",
     "output_type": "stream",
     "text": [
      "<class 'dict'> 3\n"
     ]
    }
   ],
   "source": [
    "variable6 = {'key1': 3.1415, 'key2': 2.68545, 'key3': 1.61803}\n",
    "print(type(variable6), len(variable6))"
   ]
  },
  {
   "cell_type": "code",
   "execution_count": 20,
   "id": "3a04e111",
   "metadata": {},
   "outputs": [
    {
     "name": "stdout",
     "output_type": "stream",
     "text": [
      "<class 'dict'> 3\n"
     ]
    }
   ],
   "source": [
    "variable7 = {1:'Jamie', 2:'Jack', 3:'Joey'}\n",
    "print(type(variable7), len(variable7))"
   ]
  },
  {
   "cell_type": "code",
   "execution_count": 18,
   "id": "6e21637b",
   "metadata": {},
   "outputs": [
    {
     "name": "stdout",
     "output_type": "stream",
     "text": [
      "<class 'dict'> 3\n"
     ]
    }
   ],
   "source": [
    "variable8 = {1:['Jamie', 'Jack', 'Joey'], 2:['Deo', 'Katie', 'Lauren'], 3:['Mustafa', 'Luke', 'M']}\n",
    "print(type(variable8), len(variable8))"
   ]
  },
  {
   "cell_type": "code",
   "execution_count": 2,
   "id": "09abf302",
   "metadata": {},
   "outputs": [
    {
     "name": "stdout",
     "output_type": "stream",
     "text": [
      "10\n"
     ]
    }
   ],
   "source": []
  },
  {
   "cell_type": "code",
   "execution_count": 11,
   "id": "a5cc3c94",
   "metadata": {},
   "outputs": [
    {
     "ename": "NameError",
     "evalue": "name 'variable3' is not defined",
     "output_type": "error",
     "traceback": [
      "\u001b[0;31m---------------------------------------------------------------------------\u001b[0m",
      "\u001b[0;31mNameError\u001b[0m                                 Traceback (most recent call last)",
      "Cell \u001b[0;32mIn[11], line 1\u001b[0m\n\u001b[0;32m----> 1\u001b[0m \u001b[38;5;28mprint\u001b[39m(\u001b[38;5;28mlen\u001b[39m(variable3))\n",
      "\u001b[0;31mNameError\u001b[0m: name 'variable3' is not defined"
     ]
    }
   ],
   "source": []
  },
  {
   "cell_type": "code",
   "execution_count": null,
   "id": "7982e2b6",
   "metadata": {},
   "outputs": [],
   "source": []
  }
 ],
 "metadata": {
  "kernelspec": {
   "display_name": "Python 3 (ipykernel)",
   "language": "python",
   "name": "python3"
  },
  "language_info": {
   "codemirror_mode": {
    "name": "ipython",
    "version": 3
   },
   "file_extension": ".py",
   "mimetype": "text/x-python",
   "name": "python",
   "nbconvert_exporter": "python",
   "pygments_lexer": "ipython3",
   "version": "3.11.5"
  }
 },
 "nbformat": 4,
 "nbformat_minor": 5
}
